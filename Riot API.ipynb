{
 "cells": [
  {
   "cell_type": "code",
   "execution_count": null,
   "id": "6571bbd7",
   "metadata": {},
   "outputs": [],
   "source": [
    "import requests\n",
    "import pandas as pd\n",
    "import time"
   ]
  },
  {
   "cell_type": "code",
   "execution_count": null,
   "id": "6161f9ed",
   "metadata": {},
   "outputs": [],
   "source": [
    "# This api key will change. Update every 24 hours. \n",
    "\n",
    "api_key = \"RGAPI-c1e1454a-d584-46fe-a337-2ecf95df27bd\""
   ]
  },
  {
   "cell_type": "markdown",
   "id": "63e25c0d",
   "metadata": {},
   "source": [
    "My: {\n",
    "    \"puuid\": \"Ucia41-iGooJ_05XmU32x3kHTSvTzU5kc9lgzXdPYx1mr1REVuK_kIynCbn2eYhZZkdWbUgZHCdsVA\",\n",
    "    \"gameName\": \"Bigbobo\",\n",
    "    \"tagLine\": \"8249\"\n",
    "}"
   ]
  },
  {
   "cell_type": "markdown",
   "id": "d12ae138",
   "metadata": {},
   "source": [
    "Ben: {\n",
    "    \"puuid\": \"EYQmR6wL_lCyXJHLd7fGtOOM21ZpJt8l4Hguodx--vLyQJ3XZsLrgk2dG9gX7b3iKH30qzd1SYFPfA\",\n",
    "    \"gameName\": \"Beniojinini\",\n",
    "    \"tagLine\": \"6042\"\n",
    "}"
   ]
  },
  {
   "cell_type": "markdown",
   "id": "c6870211",
   "metadata": {},
   "source": [
    "### Getting PUUID for future use."
   ]
  },
  {
   "cell_type": "code",
   "execution_count": null,
   "id": "24a45fc6",
   "metadata": {},
   "outputs": [],
   "source": [
    "#URL from puuid\n",
    "#Mine\n",
    "URL = \"https://na1.api.riotgames.com/lol/summoner/v4/summoners/by-puuid/Ucia41-iGooJ_05XmU32x3kHTSvTzU5kc9lgzXdPYx1mr1REVuK_kIynCbn2eYhZZkdWbUgZHCdsVA\"\n",
    "\n",
    "#Ben\n",
    "#URL = \"https://americas.api.riotgames.com/riot/account/v1/accounts/by-puuid/EYQmR6wL_lCyXJHLd7fGtOOM21ZpJt8l4Hguodx--vLyQJ3XZsLrgk2dG9gX7b3iKH30qzd1SYFPfA\""
   ]
  },
  {
   "cell_type": "code",
   "execution_count": null,
   "id": "99672c0b",
   "metadata": {},
   "outputs": [],
   "source": [
    "api_url = URL+\"?api_key=\"+api_key\n",
    "print(api_url)"
   ]
  },
  {
   "cell_type": "code",
   "execution_count": null,
   "id": "ab02776d",
   "metadata": {},
   "outputs": [],
   "source": [
    "respon= requests.get(api_url)\n"
   ]
  },
  {
   "cell_type": "code",
   "execution_count": null,
   "id": "74f9aff7",
   "metadata": {},
   "outputs": [],
   "source": [
    "player_info = respon.json()\n",
    "print(player_info)"
   ]
  },
  {
   "cell_type": "code",
   "execution_count": null,
   "id": "d79762c0",
   "metadata": {},
   "outputs": [],
   "source": [
    "player_puuid = player_info[\"puuid\"]\n",
    "player_puuid"
   ]
  },
  {
   "cell_type": "markdown",
   "id": "aa64370f",
   "metadata": {},
   "source": [
    "### Matches -- Using PUUID to get my match id"
   ]
  },
  {
   "cell_type": "code",
   "execution_count": null,
   "id": "f8389d88",
   "metadata": {},
   "outputs": [],
   "source": [
    "def match_url(start):\n",
    "    \n",
    "\n",
    "    #Mine\n",
    "    api_match =( \n",
    "                \"https://americas.api.riotgames.com/lol/match/v5/matches/by-puuid/Ucia41-iGooJ_05XmU32x3kHTSvTzU5kc9lgzXdPYx1mr1REVuK_kIynCbn2eYhZZkdWbUgZHCdsVA/ids?start=\"\n",
    "                +str(100*start)\n",
    "                +\"&count=100\"\n",
    "                )\n",
    "    #Ben\n",
    "    #api_match = \"https://americas.api.riotgames.com/lol/match/v5/matches/by-puuid/EYQmR6wL_lCyXJHLd7fGtOOM21ZpJt8l4Hguodx--vLyQJ3XZsLrgk2dG9gX7b3iKH30qzd1SYFPfA/ids?start=0&count=100\"\n",
    "    \n",
    "    return api_match\n",
    "\n",
    "#How many hundred games I want to get\n",
    "N=3\n",
    "\n",
    "def match_list(api_match):\n",
    "    api_match = api_match+\"&api_key=\"+api_key\n",
    "    respon = requests.get(api_match)\n",
    "    matches = respon.json()\n",
    "    return (matches)\n",
    "    \n",
    "matches=[]    \n",
    "for i in range(0, N):\n",
    "    url = match_url(i)\n",
    "    match_chunk = match_list(url)\n",
    "\n",
    "    matches.extend(match_chunk)  # Extend the list with the results\n"
   ]
  },
  {
   "cell_type": "code",
   "execution_count": null,
   "id": "9340f408",
   "metadata": {},
   "outputs": [],
   "source": [
    "def url_list(x):\n",
    "    \n",
    "    return  \"https://americas.api.riotgames.com/lol/match/v5/matches/\"+x+\"?api_key=\"+api_key\n",
    "\n",
    "# Use a lambda function with map to create the list of URLs\n",
    "match_url_list = list(map(lambda r: url_list(r), matches))"
   ]
  },
  {
   "cell_type": "markdown",
   "id": "7355ebf0",
   "metadata": {},
   "source": [
    "### Look up stats using matchID -- Using one game only"
   ]
  },
  {
   "cell_type": "code",
   "execution_count": null,
   "id": "d67e8ea7",
   "metadata": {},
   "outputs": [],
   "source": [
    "respon = requests.get(match_url_list[0])"
   ]
  },
  {
   "cell_type": "code",
   "execution_count": null,
   "id": "72d6be13",
   "metadata": {},
   "outputs": [],
   "source": [
    "stats = respon.json()\n",
    "#print(stats)"
   ]
  },
  {
   "cell_type": "code",
   "execution_count": null,
   "id": "a6b7b3d0",
   "metadata": {},
   "outputs": [],
   "source": [
    "print(stats.keys())\n",
    "player_puuid = player_info[\"puuid\"]\n",
    "print(player_puuid)\n",
    "\n",
    "\n",
    "print(stats[\"metadata\"])"
   ]
  },
  {
   "cell_type": "code",
   "execution_count": null,
   "id": "56324c5d",
   "metadata": {},
   "outputs": [],
   "source": [
    "stats[\"info\"]"
   ]
  },
  {
   "cell_type": "code",
   "execution_count": null,
   "id": "33c44260",
   "metadata": {},
   "outputs": [],
   "source": [
    "pd.options.display.max_columns = None\n",
    "stats[\"info\"].keys()\n"
   ]
  },
  {
   "cell_type": "code",
   "execution_count": null,
   "id": "e4892305",
   "metadata": {},
   "outputs": [],
   "source": [
    "### Community Dragon for item name."
   ]
  },
  {
   "cell_type": "code",
   "execution_count": null,
   "id": "fb085fe7",
   "metadata": {},
   "outputs": [],
   "source": [
    "item =\"https://raw.communitydragon.org/latest/plugins/rcp-be-lol-game-data/global/default/v1/items.json\"\n",
    "item_json = requests.get(item).json()\n",
    "item_json\n"
   ]
  },
  {
   "cell_type": "code",
   "execution_count": null,
   "id": "7538e00d",
   "metadata": {},
   "outputs": [],
   "source": [
    "def json_extract(obj, key):\n",
    "    arr = []\n",
    "\n",
    "    def extract(obj, arr, key):\n",
    "        if isinstance(obj, dict):\n",
    "            #print(obj.items()) \n",
    "            for k, v in obj.items(): #obj.items() returns all key-value pairs of the dictionary obj. \n",
    "                if k == key:\n",
    "                    arr.append(v)\n",
    "\n",
    "        elif isinstance(obj, list):\n",
    "            for item in obj:\n",
    "                extract(item, arr, key)\n",
    "        return arr\n",
    "\n",
    "    values = extract(obj, arr, key) #Returning array.\n",
    "    return values"
   ]
  },
  {
   "cell_type": "code",
   "execution_count": null,
   "id": "34a362a2",
   "metadata": {},
   "outputs": [],
   "source": [
    "item_id = json_extract(item_json, \"id\")\n",
    "item_name = json_extract(item_json, \"name\")"
   ]
  },
  {
   "cell_type": "code",
   "execution_count": null,
   "id": "49264a6f",
   "metadata": {},
   "outputs": [],
   "source": [
    "#map(function, *iterables):\n",
    "item_dict = dict(map(lambda a, b: (int(a),b),item_id,item_name  ))\n"
   ]
  },
  {
   "cell_type": "code",
   "execution_count": null,
   "id": "cd9bac1f",
   "metadata": {},
   "outputs": [],
   "source": [
    "#print(item_name)"
   ]
  },
  {
   "cell_type": "code",
   "execution_count": null,
   "id": "5dc4ea2e",
   "metadata": {},
   "outputs": [],
   "source": [
    "\n",
    "gear_df = pd.DataFrame(item_name,columns=[\"item_name\"])\n",
    "gear_df"
   ]
  },
  {
   "cell_type": "code",
   "execution_count": null,
   "id": "66de3b3c",
   "metadata": {},
   "outputs": [],
   "source": [
    "gear_df.to_excel('gear_list_excel.xlsx', index=False)"
   ]
  },
  {
   "cell_type": "markdown",
   "id": "f76af0d6",
   "metadata": {},
   "source": [
    "### Look up stats using matchID -- Using all games"
   ]
  },
  {
   "cell_type": "code",
   "execution_count": null,
   "id": "fe308fc5",
   "metadata": {},
   "outputs": [],
   "source": [
    "\n",
    "def games_combine(x, game_number):\n",
    "    \n",
    "    while True:\n",
    "        \n",
    "        response = requests.get(x)\n",
    "        if response.status_code ==429:\n",
    "            print(game_number)\n",
    "            print(\"sleeping\")\n",
    "            time.sleep(30)\n",
    "            continue\n",
    "        if response.status_code == 200:\n",
    "            break\n",
    "    game_stats = response.json()\n",
    "    DF_all = pd.DataFrame(game_stats[\"info\"][\"participants\"])\n",
    "    DF_all[\"game_number\"] = game_number  # Add a new column to mark the game number\n",
    "    \n",
    "    if 'puuid' in DF_all.columns:\n",
    "        Teamnumber = DF_all.loc[DF_all[\"puuid\"] == player_puuid, \"teamId\"].iloc[0]\n",
    "        DF_all[\"myteam_number\"] = Teamnumber\n",
    "    else:\n",
    "        print(\"Warning: 'puuid' column not found.\")\n",
    "        DF_all[\"myteam_number\"] = None  # Set a default value if 'puuid' is missing\n",
    "\n",
    "    print(game_number)\n",
    "    \n",
    "    return DF_all\n",
    "\n",
    "# Generate the combined DataFrame\n",
    "DF_all = pd.concat(\n",
    "    [games_combine(urls, game_number) for game_number, urls in enumerate(match_url_list, start=0)],\n",
    "    ignore_index=True\n",
    ")"
   ]
  },
  {
   "cell_type": "code",
   "execution_count": null,
   "id": "6f2b7b60",
   "metadata": {},
   "outputs": [],
   "source": [
    "DF_all"
   ]
  },
  {
   "cell_type": "code",
   "execution_count": null,
   "id": "9c11712f",
   "metadata": {},
   "outputs": [],
   "source": [
    "\n",
    "#Change item from float to actual name.\n",
    "DF_all[[\"item0\",\"item1\",\"item2\",\"item3\",\"item4\",\"item5\",\"item6\"]]=DF_all[[\"item0\",\"item1\",\"item2\",\"item3\",\"item4\",\"item5\",\"item6\"]].astype(int)\n",
    "DF_all[\"item1\"].info()\n",
    "\n",
    "DF_all = DF_all.replace(item_dict)"
   ]
  },
  {
   "cell_type": "markdown",
   "id": "e1bf7c99",
   "metadata": {},
   "source": [
    "### Adding Teamates recognition."
   ]
  },
  {
   "cell_type": "code",
   "execution_count": null,
   "id": "09c9edf0",
   "metadata": {},
   "outputs": [],
   "source": [
    "def teamate_recog(myteam, team):\n",
    "    try:\n",
    "        if myteam == team:\n",
    "            return 1\n",
    "        else:\n",
    "            return 0\n",
    "    except Exception as e:\n",
    "        return 0  # Default value for other errors\n",
    "\n",
    "# Apply the function row-wise\n",
    "DF_all[\"Teamates\"] = DF_all.apply(lambda r: teamate_recog(r[\"myteam_number\"], r[\"teamId\"]), axis=1)"
   ]
  },
  {
   "cell_type": "code",
   "execution_count": null,
   "id": "6e1453d4",
   "metadata": {},
   "outputs": [],
   "source": [
    "DF_all"
   ]
  },
  {
   "cell_type": "code",
   "execution_count": null,
   "id": "076fe1b8",
   "metadata": {},
   "outputs": [],
   "source": []
  },
  {
   "cell_type": "code",
   "execution_count": null,
   "id": "d6cbe642",
   "metadata": {},
   "outputs": [],
   "source": []
  },
  {
   "cell_type": "code",
   "execution_count": null,
   "id": "077a3fe8",
   "metadata": {},
   "outputs": [],
   "source": [
    "DF_all.to_excel('my'+str(100*N)+'games.xlsx', index=False)"
   ]
  },
  {
   "cell_type": "code",
   "execution_count": null,
   "id": "adc05db6",
   "metadata": {},
   "outputs": [],
   "source": []
  }
 ],
 "metadata": {
  "kernelspec": {
   "display_name": "Python 3 (ipykernel)",
   "language": "python",
   "name": "python3"
  },
  "language_info": {
   "codemirror_mode": {
    "name": "ipython",
    "version": 3
   },
   "file_extension": ".py",
   "mimetype": "text/x-python",
   "name": "python",
   "nbconvert_exporter": "python",
   "pygments_lexer": "ipython3",
   "version": "3.9.12"
  }
 },
 "nbformat": 4,
 "nbformat_minor": 5
}
